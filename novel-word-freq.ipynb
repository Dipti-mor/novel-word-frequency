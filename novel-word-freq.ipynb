{
 "cells": [
  {
   "cell_type": "markdown",
   "metadata": {
    "dc": {
     "key": "3"
    },
    "deletable": false,
    "editable": false,
    "run_control": {
     "frozen": true
    },
    "tags": [
     "context"
    ]
   },
   "source": [
    "## 1. Tools for text processing\n",
    "<p><img style=\"float: right ; margin: 5px 20px 5px 10px; width: 45%\" src=\"https://upload.wikimedia.org/wikipedia/commons/thumb/8/85/PrideAndPrejudiceTitlePage.jpg/330px-PrideAndPrejudiceTitlePage.jpg\"> </p>\n",
    "<<p>What are the most frequent words in Jane Austen's novel, *Pride and Prejudice*, and how often do they occur?</p>\n",
    "<p>In this notebook, we'll scrape the novel <em>Pride and Prejudice</em> from the website <a href=\"https://www.gutenberg.org/\">Project Gutenberg</a> (which contains a large corpus of books) using the Python package <code>requests</code>. Then we'll extract words from this web data using <code>BeautifulSoup</code>. Finally, we'll dive into analyzing the distribution of words using the Natural Language ToolKit (<code>nltk</code>).</p>\n",
    "<p>The <em>Data Science pipeline</em> we'll build in this notebook can be used to visualize the word frequency distributions of any novel that you can find on Project Gutenberg. The natural language processing tools used here apply to much of the data that data scientists encounter as a vast proportion of the world's data is unstructured data and includes a great deal of text.</p>\n",
    "<p>Let's start by loading in the three main Python packages we are going to use.</p>"
   ]
  },
  {
   "cell_type": "code",
   "execution_count": 2,
   "metadata": {
    "dc": {
     "key": "3"
    },
    "tags": [
     "sample_code"
    ]
   },
   "outputs": [
    {
     "name": "stderr",
     "output_type": "stream",
     "text": [
      "[nltk_data] Downloading package punkt to\n",
      "[nltk_data]     C:\\Users\\dipti\\AppData\\Roaming\\nltk_data...\n",
      "[nltk_data]   Package punkt is already up-to-date!\n",
      "[nltk_data] Downloading package stopwords to\n",
      "[nltk_data]     C:\\Users\\dipti\\AppData\\Roaming\\nltk_data...\n",
      "[nltk_data]   Package stopwords is already up-to-date!\n"
     ]
    },
    {
     "data": {
      "text/plain": [
       "True"
      ]
     },
     "execution_count": 2,
     "metadata": {},
     "output_type": "execute_result"
    }
   ],
   "source": [
    "# Importing requests, BeautifulSoup, and nltk for web scraping and text processing\n",
    "import requests\n",
    "import nltk\n",
    "from bs4 import BeautifulSoup\n",
    "\n",
    "# Downloading the nltk stopwords and punkt tokenizer\n",
    "nltk.download('punkt')\n",
    "nltk.download('stopwords')\n",
    "\n",
    "# You can also initialize any other nltk resources here if needed."
   ]
  },
  {
   "cell_type": "markdown",
   "metadata": {
    "dc": {
     "key": "10"
    },
    "deletable": false,
    "editable": false,
    "run_control": {
     "frozen": true
    },
    "tags": [
     "context"
    ]
   },
   "source": [
    "## 2. Request Pride and Prejudice\n",
    "<p>To analyze *Pride and Prejudice*, we need to get the contents of the novel from <em>somewhere</em>. Luckily, the text is freely available online at Project Gutenberg as an HTML file: https://www.gutenberg.org/files/1342/1342-h/1342-h.htm.</p>\n",
    "<p><strong>Note</strong> that HTML stands for Hypertext Markup Language and is the standard markup language for the web.</p>\n",
    "<p>To fetch the HTML file with *Pride and Prejudice* we're going to use the <code>requests</code> package to make a <code>GET</code> request for the website, which means we're <em>getting</em> data from it. This is what you're doing through a browser when visiting a webpage, but now we're getting the requested page directly into Python instead.</p>"
   ]
  },
  {
   "cell_type": "code",
   "execution_count": 3,
   "metadata": {
    "dc": {
     "key": "10"
    },
    "tags": [
     "sample_code"
    ]
   },
   "outputs": [
    {
     "name": "stdout",
     "output_type": "stream",
     "text": [
      "<!DOCTYPE html>\n",
      "<html lang=\"en\">\n",
      "  <head>\n",
      "<link rel=\"icon\" href=\"images/cover.jpg\" type=\"image/x-cover\">\n",
      "\n",
      "<meta charset=\"utf-8\">\n",
      "\n",
      "<title>\n",
      "  The Project Gutenberg eBook of Pride and prejudice, by Jane Austen.\n",
      "</title>\n",
      "<style>\n",
      "\n",
      "a:link {background-color:#ffffff;color:blue;text-decoration:none;}\n",
      "\n",
      "  link {background-color:#ffffff;color:blue;text-decoration:none;}\n",
      "\n",
      "a:visited {background-color:#ffffff;color:purple;text-decoration:none;}\n",
      "\n",
      "a:hover {background-color:#ffffff;color:#FF0000;text-decoration:underline;}\n",
      "\n",
      ".blk {page-break-before:always;page-break-after:always;\n",
      "margin:2em auto;}\n",
      "\n",
      ".cbig250 {text-align:center;text-indent:0%;font-weight:normal;\n",
      "font-size:200%;}\n",
      "\n",
      "body{margin-left:4%;margin-right:6%;background:#ffffff;color:black;font-family:\"Times New Roman\", serif;font-size:medium;}\n",
      "\n",
      ".blockquot {margin-top:2%;margin-bottom:2%;}\n",
      "\n",
      ".c {text-align:center;text-indent:0%;}\n",
      "\n",
      ".caption  {font-weight:normal;}\n",
      ".caption p{font-size:75%;text-align:center;text-indent:0%;}\n",
      "\n",
      ".fint {text-align:center;text-indent:0%;\n",
      "margin-top:2em;font-size:65%;}\n",
      "\n",
      ".figcenter   {margin:3% auto 3% auto;clear:both;\n",
      "text-align:center;text-indent:0%;}\n",
      "\n",
      ".figleft     {float:left;clear:left;margin-left:0;margin-bottom:1em;margin-top:1em;margin-right:1em;padding:0;text-align:center;}\n",
      "\n",
      " h1 {margin-top:5%;text-align:center;clear:both;\n",
      "font-weight:normal;}\n",
      "\n",
      " h2 {margin-top:4%;margin-bottom:2%;text-align:center;clear:both;\n",
      " font-size:100%;font-weight:normal;}\n",
      "\n",
      " h3 {margin:4% auto 2% auto;text-align:center;clear:both;}\n",
      "\n",
      " hr {width:90%;margin:2em auto 2em auto;clear:both;color:black;}\n",
      "\n",
      " hr.full {width: 60%;margin:2% auto 2% auto;border-top:1px solid black;\n",
      "padding:.1em;border-bottom:1px solid black;border-left:none;border-right:none;}\n",
      "\n",
      " img {border:none;}\n",
      "\n",
      ".lftspc {margin-left:.25em;}\n",
      "\n",
      ".letra {font-size:250%;float:left;margin-top:-1%;}\n",
      "\n",
      ".nind {text-indent:0%;}\n",
      "\n",
      " p {margin-top:.2em;text-align:justify;margin-bottom:.2em;text-indent:4%;}\n",
      "\n",
      ".pagenum  {font-\n"
     ]
    }
   ],
   "source": [
    "# Getting the Pride and Prejudice HTML \n",
    "r = requests.get('https://www.gutenberg.org/files/1342/1342-h/1342-h.htm')\n",
    "\n",
    "# Setting the correct text encoding of the HTML page\n",
    "r.encoding = 'utf-8'\n",
    "\n",
    "# Extracting the HTML from the request object\n",
    "html = r.text\n",
    "\n",
    "# Printing the first 2000 characters in html\n",
    "print(html[0:2000])\n"
   ]
  },
  {
   "cell_type": "markdown",
   "metadata": {
    "dc": {
     "key": "17"
    },
    "deletable": false,
    "editable": false,
    "run_control": {
     "frozen": true
    },
    "tags": [
     "context"
    ]
   },
   "source": [
    "## 3. Get the text from the HTML\n",
    "<p>This HTML is not quite what we want. However, it does <em>contain</em> what we want: the text of <em>Pride and Prejudice</em>. What we need to do now is <em>wrangle</em> this HTML to extract the text of the novel. For this, we'll use the package <code>BeautifulSoup</code>.</p>\n",
    "<p>Firstly, a word on the name of the package: Beautiful Soup? In web development, the term \"tag soup\" refers to structurally or syntactically incorrect HTML code written for a web page. What Beautiful Soup does best is to make tag soup beautiful again and to extract information from it with ease! In fact, the main object created and queried when using this package is called <code>BeautifulSoup</code>. After creating the soup, we can use its <code>.get_text()</code> method to extract the text.</p>\n"
   ]
  },
  {
   "cell_type": "code",
   "execution_count": 7,
   "metadata": {
    "dc": {
     "key": "17"
    },
    "tags": [
     "sample_code"
    ]
   },
   "outputs": [
    {
     "name": "stdout",
     "output_type": "stream",
     "text": [
      " on that account; for in general, you know, they visit no new{4}\n",
      "comers. Indeed you must go, for it will be impossible for us to visit\n",
      "him, if you do not.”\n",
      "“You are over scrupulous, surely. I dare say Mr. Bingley will be very\n",
      "glad to see you; and I will send a few lines by you to assure him of my\n",
      "hearty consent to his marrying whichever he chooses of the girls—though\n",
      "I must throw in a good word for my little Lizzy.”\n",
      "“I desire you will do no such thing. Lizzy is not a bit better than the\n",
      "others: and I am sure she is not half so handsome as Jane, nor half so\n",
      "good-humoured as Lydia. But you are always giving her the preference.”\n",
      "“They have none of them much to recommend them,” replied he: “they are\n",
      "all silly and ignorant like other girls; but Lizzy has something more of\n",
      "quickness than her sisters.”\n",
      "“Mr. Bennet, how can you abuse your own children in such a way? You take\n",
      "delight in vexing me. You have no compassion on my poor nerves.”\n",
      "“You mistake me, my dear. I have a high respect for your nerves. They\n",
      "are my old friends. I have heard you mention them with consideration\n",
      "these twenty years at least.”\n",
      "“Ah, you do not know what I suffer.”\n",
      "“But I hope you will get over it, and live to see many young men of four\n",
      "thousand a year come into the neighbourhood.”\n",
      "“It will be no use to us, if twenty such should come, since you will not\n",
      "visit them.”\n",
      "“Depend upon it, my dear, that when there are twenty, I will visit them\n",
      "all.”\n",
      "Mr. Bennet was so odd a mixture of quick parts, sarcastic humour,\n",
      "reserve, and caprice, that the experience of three-and-twenty years had\n",
      "been insufficient to{5} make his wife understand his character. Her mind\n",
      "was less difficult to develope. She was a woman of mean understanding,\n",
      "little information, and uncertain temper. When she was discontented, she\n",
      "fancied herself nervous. The business of her life was to get her\n",
      "daughters married: its solace was visiting and news.\n",
      "\n",
      "\n",
      "Mr. & Mrs. Bennet\n",
      "[Copyright 1894 by George Allen.]\n",
      "\n",
      "{6}\n",
      "\n",
      "\n",
      "\n",
      "I hope Mr\n"
     ]
    }
   ],
   "source": [
    "# Creating a BeautifulSoup object from the HTML using html.parser\n",
    "soup = BeautifulSoup(html, \"html.parser\")\n",
    "\n",
    "# Getting the text out of the soup\n",
    "text = soup.get_text()\n",
    "\n",
    "# Printing out text between characters 32000 and 34000\n",
    "print(text[32000:34000])\n"
   ]
  },
  {
   "cell_type": "markdown",
   "metadata": {
    "dc": {
     "key": "24"
    },
    "deletable": false,
    "editable": false,
    "run_control": {
     "frozen": true
    },
    "tags": [
     "context"
    ]
   },
   "source": [
    "## 4. Extract the words\n",
    "<p>We now have the text of the novel! There is some unwanted content at the start and some at the end. We could remove it, but this extra content is so much smaller in amount compared to the text of <em>Pride and Prejudice</em> that, for a first approximation, it's okay to leave it in.</p>\n",
    "<p>Now that we have the text of interest, it's time to count how many times each word appears, and for this, we'll use <code>nltk</code> – the Natural Language Toolkit. We'll start by tokenizing the text, which involves removing everything that isn't a word (such as whitespace, punctuation, etc.) and then splitting the text into a list of words.</p>\n"
   ]
  },
  {
   "cell_type": "code",
   "execution_count": 8,
   "metadata": {
    "dc": {
     "key": "24"
    },
    "tags": [
     "sample_code"
    ]
   },
   "outputs": [
    {
     "name": "stdout",
     "output_type": "stream",
     "text": [
      "['The', 'Project', 'Gutenberg', 'eBook', 'of', 'Pride', 'and', 'prejudice']\n"
     ]
    }
   ],
   "source": [
    "# Creating a tokenizer\n",
    "tokenizer = nltk.tokenize.RegexpTokenizer(r'\\w+')\n",
    "\n",
    "# Tokenizing the text\n",
    "tokens = tokenizer.tokenize(text)\n",
    "\n",
    "# Printing out the first 8 words / tokens \n",
    "print(tokens[0:8])\n"
   ]
  },
  {
   "cell_type": "markdown",
   "metadata": {
    "dc": {
     "key": "31"
    },
    "deletable": false,
    "editable": false,
    "run_control": {
     "frozen": true
    },
    "tags": [
     "context"
    ]
   },
   "source": [
    "## 5. Make the words lowercase\n",
    "<p>OK! We're nearly there. Note that in the above, 'Or' has a capital 'O' and that in other places it may not, but both 'Or' and 'or' should be counted as the same word. For this reason, we should build a list of all words in <em>Pride and Prejudice</em> in which all capital letters have been converted to lowercase.</p>\n"
   ]
  },
  {
   "cell_type": "code",
   "execution_count": 9,
   "metadata": {
    "dc": {
     "key": "31"
    },
    "tags": [
     "sample_code"
    ]
   },
   "outputs": [
    {
     "name": "stdout",
     "output_type": "stream",
     "text": [
      "['the', 'project', 'gutenberg', 'ebook', 'of', 'pride', 'and', 'prejudice']\n"
     ]
    }
   ],
   "source": [
    "# A new list to hold the lowercased words (using list comprehension)\n",
    "words = [word.lower() for word in tokens]\n",
    "\n",
    "# Printing out the first 8 words / tokens \n",
    "print(words[0:8])\n"
   ]
  },
  {
   "cell_type": "markdown",
   "metadata": {
    "dc": {
     "key": "38"
    },
    "deletable": false,
    "editable": false,
    "run_control": {
     "frozen": true
    },
    "tags": [
     "context"
    ]
   },
   "source": [
    "## 6. Load in stop words\n",
    "<p>It is common practice to remove words that appear frequently in the English language, such as 'the', 'of', and 'a', because they don't carry much meaningful information for analysis. Such words are known as <em>stop words</em>. The package <code>nltk</code> includes a good list of stop words in English that we can use to filter out these common words.</p>\n"
   ]
  },
  {
   "cell_type": "code",
   "execution_count": 10,
   "metadata": {
    "dc": {
     "key": "38"
    },
    "tags": [
     "sample_code"
    ]
   },
   "outputs": [
    {
     "name": "stdout",
     "output_type": "stream",
     "text": [
      "['i', 'me', 'my', 'myself', 'we', 'our', 'ours', 'ourselves']\n"
     ]
    }
   ],
   "source": [
    "# Getting the English stop words from nltk\n",
    "sw = nltk.corpus.stopwords.words('english')\n",
    "\n",
    "# Printing out the first eight stop words\n",
    "print(sw[0:8])\n"
   ]
  },
  {
   "cell_type": "markdown",
   "metadata": {
    "dc": {
     "key": "45"
    },
    "deletable": false,
    "editable": false,
    "run_control": {
     "frozen": true
    },
    "tags": [
     "context"
    ]
   },
   "source": [
    "## 7. Remove stop words in Pride and Prejudice\n",
    "<p>We now want to create a new list with all <code>words</code> in *Pride and Prejudice*, except those that are stop words (that is, those words listed in <code>sw</code>). One way to get this list is to loop over all elements of <code>words</code> and add each word to a new list if they are <em>not</em> in <code>sw</code>.</p>\n"
   ]
  },
  {
   "cell_type": "code",
   "execution_count": 11,
   "metadata": {
    "dc": {
     "key": "45"
    },
    "tags": [
     "sample_code"
    ]
   },
   "outputs": [
    {
     "name": "stdout",
     "output_type": "stream",
     "text": [
      "['project', 'gutenberg', 'ebook', 'pride', 'prejudice']\n"
     ]
    }
   ],
   "source": [
    "# A new list to hold Pride and Prejudice text with no stop words\n",
    "words_ns = []\n",
    "\n",
    "# Appending to words_ns all words that are in words but not in sw\n",
    "for word in words:\n",
    "    if word not in sw:\n",
    "        words_ns.append(word)\n",
    "\n",
    "# Printing the first 5 words_ns to check that stop words are gone\n",
    "print(words_ns[0:5])\n"
   ]
  },
  {
   "cell_type": "markdown",
   "metadata": {
    "dc": {
     "key": "52"
    },
    "deletable": false,
    "editable": false,
    "run_control": {
     "frozen": true
    },
    "tags": [
     "context"
    ]
   },
   "source": [
    "## 8. We have the answer\n",
    "<p>Our original question was:</p>\n",
    "<blockquote>\n",
    "  <p>What are the most frequent words in Jane Austen's novel Pride and Prejudice and how often do they occur?</p>\n",
    "</blockquote>\n",
    "<p>We are now ready to answer that! Let's create a word frequency distribution plot using <code>nltk</code>.</p>\n"
   ]
  },
  {
   "cell_type": "code",
   "execution_count": 12,
   "metadata": {
    "dc": {
     "key": "52"
    },
    "tags": [
     "sample_code"
    ]
   },
   "outputs": [
    {
     "data": {
      "image/png": "[encoded data removed]",
      "text/plain": [
       "<Figure size 640x480 with 1 Axes>"
      ]
     },
     "metadata": {},
     "output_type": "display_data"
    },
    {
     "data": {
      "text/plain": [
       "<Axes: xlabel='Samples', ylabel='Counts'>"
      ]
     },
     "execution_count": 12,
     "metadata": {},
     "output_type": "execute_result"
    }
   ],
   "source": [
    "# This command displays figures inline\n",
    "%matplotlib inline\n",
    "\n",
    "# Creating the word frequency distribution\n",
    "freqdist = nltk.FreqDist(words_ns)\n",
    "\n",
    "# Plotting the word frequency distribution\n",
    "freqdist.plot(25)\n"
   ]
  },
  {
   "cell_type": "markdown",
   "metadata": {
    "dc": {
     "key": "59"
    },
    "deletable": false,
    "editable": false,
    "run_control": {
     "frozen": true
    },
    "tags": [
     "context"
    ]
   },
   "source": [
    "## 9. The most common word\n",
    "<p>Nice! The frequency distribution plot above is the answer to our question. </p>\n",
    "<p>The natural language processing skills we used in this notebook are also applicable to much of the data that Data Scientists encounter, as a vast proportion of the world's data is unstructured and includes a great deal of text. </p>\n",
    "<p>So, what word turned out to (<em>not surprisingly</em>) be the most common word in Pride and Prejudice?</p>\n"
   ]
  },
  {
   "cell_type": "code",
   "execution_count": 14,
   "metadata": {
    "dc": {
     "key": "59"
    },
    "tags": [
     "sample_code"
    ]
   },
   "outputs": [
    {
     "name": "stdout",
     "output_type": "stream",
     "text": [
      "The most common word in Pride and Prejudice is: mr\n"
     ]
    }
   ],
   "source": [
    "# What's the most common word in Pride and Prejudice?\n",
    "most_common_word = freqdist.max()\n",
    "print(f\"The most common word in Pride and Prejudice is: {most_common_word}\")\n"
   ]
  },
  {
   "cell_type": "code",
   "execution_count": null,
   "metadata": {},
   "outputs": [],
   "source": []
  }
 ],
 "metadata": {
  "kernelspec": {
   "display_name": "Python 3 (ipykernel)",
   "language": "python",
   "name": "python3"
  },
  "language_info": {
   "codemirror_mode": {
    "name": "ipython",
    "version": 3
   },
   "file_extension": ".py",
   "mimetype": "text/x-python",
   "name": "python",
   "nbconvert_exporter": "python",
   "pygments_lexer": "ipython3",
   "version": "3.12.4"
  }
 },
 "nbformat": 4,
 "nbformat_minor": 4
}
